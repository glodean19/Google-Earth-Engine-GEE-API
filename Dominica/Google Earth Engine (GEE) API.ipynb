{
 "cells": [
  {
   "cell_type": "code",
   "execution_count": 1,
   "id": "4686135d",
   "metadata": {},
   "outputs": [
    {
     "name": "stdout",
     "output_type": "stream",
     "text": [
      "Requirement already satisfied: earthengine-api in /home/veronica/anaconda3/lib/python3.9/site-packages (0.1.369)\n",
      "Requirement already satisfied: google-api-python-client>=1.12.1 in /home/veronica/anaconda3/lib/python3.9/site-packages (from earthengine-api) (2.99.0)\n",
      "Requirement already satisfied: httplib2<1dev,>=0.9.2 in /home/veronica/anaconda3/lib/python3.9/site-packages (from earthengine-api) (0.22.0)\n",
      "Requirement already satisfied: requests in /home/veronica/anaconda3/lib/python3.9/site-packages (from earthengine-api) (2.27.1)\n",
      "Requirement already satisfied: google-cloud-storage in /home/veronica/anaconda3/lib/python3.9/site-packages (from earthengine-api) (2.10.0)\n",
      "Requirement already satisfied: google-auth>=1.4.1 in /home/veronica/anaconda3/lib/python3.9/site-packages (from earthengine-api) (2.23.0)\n",
      "Requirement already satisfied: google-auth-httplib2>=0.0.3 in /home/veronica/anaconda3/lib/python3.9/site-packages (from earthengine-api) (0.1.1)\n",
      "Requirement already satisfied: google-api-core!=2.0.*,!=2.1.*,!=2.2.*,!=2.3.0,<3.0.0.dev0,>=1.31.5 in /home/veronica/anaconda3/lib/python3.9/site-packages (from google-api-python-client>=1.12.1->earthengine-api) (2.11.1)\n",
      "Requirement already satisfied: uritemplate<5,>=3.0.1 in /home/veronica/anaconda3/lib/python3.9/site-packages (from google-api-python-client>=1.12.1->earthengine-api) (4.1.1)\n",
      "Requirement already satisfied: protobuf!=3.20.0,!=3.20.1,!=4.21.0,!=4.21.1,!=4.21.2,!=4.21.3,!=4.21.4,!=4.21.5,<5.0.0.dev0,>=3.19.5 in /home/veronica/anaconda3/lib/python3.9/site-packages (from google-api-core!=2.0.*,!=2.1.*,!=2.2.*,!=2.3.0,<3.0.0.dev0,>=1.31.5->google-api-python-client>=1.12.1->earthengine-api) (4.24.3)\n",
      "Requirement already satisfied: googleapis-common-protos<2.0.dev0,>=1.56.2 in /home/veronica/anaconda3/lib/python3.9/site-packages (from google-api-core!=2.0.*,!=2.1.*,!=2.2.*,!=2.3.0,<3.0.0.dev0,>=1.31.5->google-api-python-client>=1.12.1->earthengine-api) (1.60.0)\n",
      "Requirement already satisfied: urllib3<2.0 in /home/veronica/anaconda3/lib/python3.9/site-packages (from google-auth>=1.4.1->earthengine-api) (1.26.9)\n",
      "Requirement already satisfied: pyasn1-modules>=0.2.1 in /home/veronica/anaconda3/lib/python3.9/site-packages (from google-auth>=1.4.1->earthengine-api) (0.2.8)\n",
      "Requirement already satisfied: rsa<5,>=3.1.4 in /home/veronica/anaconda3/lib/python3.9/site-packages (from google-auth>=1.4.1->earthengine-api) (4.7.2)\n",
      "Requirement already satisfied: cachetools<6.0,>=2.0.0 in /home/veronica/anaconda3/lib/python3.9/site-packages (from google-auth>=1.4.1->earthengine-api) (4.2.2)\n",
      "Requirement already satisfied: pyparsing!=3.0.0,!=3.0.1,!=3.0.2,!=3.0.3,<4,>=2.4.2 in /home/veronica/anaconda3/lib/python3.9/site-packages (from httplib2<1dev,>=0.9.2->earthengine-api) (3.0.4)\n",
      "Requirement already satisfied: pyasn1<0.5.0,>=0.4.6 in /home/veronica/anaconda3/lib/python3.9/site-packages (from pyasn1-modules>=0.2.1->google-auth>=1.4.1->earthengine-api) (0.4.8)\n",
      "Requirement already satisfied: certifi>=2017.4.17 in /home/veronica/anaconda3/lib/python3.9/site-packages (from requests->earthengine-api) (2021.10.8)\n",
      "Requirement already satisfied: charset-normalizer~=2.0.0 in /home/veronica/anaconda3/lib/python3.9/site-packages (from requests->earthengine-api) (2.0.4)\n",
      "Requirement already satisfied: idna<4,>=2.5 in /home/veronica/anaconda3/lib/python3.9/site-packages (from requests->earthengine-api) (3.3)\n",
      "Requirement already satisfied: google-resumable-media>=2.3.2 in /home/veronica/anaconda3/lib/python3.9/site-packages (from google-cloud-storage->earthengine-api) (2.6.0)\n",
      "Requirement already satisfied: google-cloud-core<3.0dev,>=2.3.0 in /home/veronica/anaconda3/lib/python3.9/site-packages (from google-cloud-storage->earthengine-api) (2.3.3)\n",
      "Requirement already satisfied: google-crc32c<2.0dev,>=1.0 in /home/veronica/anaconda3/lib/python3.9/site-packages (from google-resumable-media>=2.3.2->google-cloud-storage->earthengine-api) (1.1.2)\n",
      "Requirement already satisfied: cffi>=1.0.0 in /home/veronica/anaconda3/lib/python3.9/site-packages (from google-crc32c<2.0dev,>=1.0->google-resumable-media>=2.3.2->google-cloud-storage->earthengine-api) (1.15.0)\n",
      "Requirement already satisfied: pycparser in /home/veronica/anaconda3/lib/python3.9/site-packages (from cffi>=1.0.0->google-crc32c<2.0dev,>=1.0->google-resumable-media>=2.3.2->google-cloud-storage->earthengine-api) (2.21)\n",
      "Note: you may need to restart the kernel to use updated packages.\n"
     ]
    }
   ],
   "source": [
    "pip install earthengine-api"
   ]
  },
  {
   "cell_type": "code",
   "execution_count": 2,
   "id": "24abfc9b",
   "metadata": {},
   "outputs": [
    {
     "name": "stdout",
     "output_type": "stream",
     "text": [
      "Requirement already satisfied: folium in /home/veronica/anaconda3/lib/python3.9/site-packages (0.14.0)\n",
      "Requirement already satisfied: requests in /home/veronica/anaconda3/lib/python3.9/site-packages (from folium) (2.27.1)\n",
      "Requirement already satisfied: branca>=0.6.0 in /home/veronica/anaconda3/lib/python3.9/site-packages (from folium) (0.6.0)\n",
      "Requirement already satisfied: jinja2>=2.9 in /home/veronica/anaconda3/lib/python3.9/site-packages (from folium) (2.11.3)\n",
      "Requirement already satisfied: numpy in /home/veronica/anaconda3/lib/python3.9/site-packages (from folium) (1.21.5)\n",
      "Requirement already satisfied: MarkupSafe>=0.23 in /home/veronica/anaconda3/lib/python3.9/site-packages (from jinja2>=2.9->folium) (2.0.1)\n",
      "Requirement already satisfied: certifi>=2017.4.17 in /home/veronica/anaconda3/lib/python3.9/site-packages (from requests->folium) (2021.10.8)\n",
      "Requirement already satisfied: charset-normalizer~=2.0.0 in /home/veronica/anaconda3/lib/python3.9/site-packages (from requests->folium) (2.0.4)\n",
      "Requirement already satisfied: urllib3<1.27,>=1.21.1 in /home/veronica/anaconda3/lib/python3.9/site-packages (from requests->folium) (1.26.9)\n",
      "Requirement already satisfied: idna<4,>=2.5 in /home/veronica/anaconda3/lib/python3.9/site-packages (from requests->folium) (3.3)\n",
      "Note: you may need to restart the kernel to use updated packages.\n"
     ]
    }
   ],
   "source": [
    "pip install folium"
   ]
  },
  {
   "cell_type": "code",
   "execution_count": 3,
   "id": "8ff3707e",
   "metadata": {},
   "outputs": [],
   "source": [
    "import ee\n",
    "import folium  # For visualizing the map"
   ]
  },
  {
   "cell_type": "code",
   "execution_count": 4,
   "id": "5c7d3112",
   "metadata": {
    "scrolled": true
   },
   "outputs": [
    {
     "data": {
      "text/html": [
       "<p>To authorize access needed by Earth Engine, open the following\n",
       "        URL in a web browser and follow the instructions:</p>\n",
       "        <p><a href=https://code.earthengine.google.com/client-auth?scopes=https%3A//www.googleapis.com/auth/earthengine%20https%3A//www.googleapis.com/auth/devstorage.full_control&request_id=AryKtV_fsW2QlPtX3MjOKk53uaxyeUFMEOkjhh_5d9U&tc=-FCngJs8FOdJbaP5F6GfrFmDn_Ve4uNReoBqUQO0Y5g&cc=Kp6x5xt7KktsvkA0rkM3B4MjaRjtzYS7fcKLWKz0Q7k>https://code.earthengine.google.com/client-auth?scopes=https%3A//www.googleapis.com/auth/earthengine%20https%3A//www.googleapis.com/auth/devstorage.full_control&request_id=AryKtV_fsW2QlPtX3MjOKk53uaxyeUFMEOkjhh_5d9U&tc=-FCngJs8FOdJbaP5F6GfrFmDn_Ve4uNReoBqUQO0Y5g&cc=Kp6x5xt7KktsvkA0rkM3B4MjaRjtzYS7fcKLWKz0Q7k</a></p>\n",
       "        <p>The authorization workflow will generate a code, which you should paste in the box below.</p>\n",
       "        "
      ],
      "text/plain": [
       "<IPython.core.display.HTML object>"
      ]
     },
     "metadata": {},
     "output_type": "display_data"
    },
    {
     "name": "stdout",
     "output_type": "stream",
     "text": [
      "Enter verification code: 4/1Adeu5BU95rcjowcslvjYpDBn-P0FMlOadRkepXO2w5a8-SPEVn6ew8ffPL4\n",
      "\n",
      "Successfully saved authorization token.\n"
     ]
    }
   ],
   "source": [
    "ee.Authenticate()"
   ]
  },
  {
   "cell_type": "code",
   "execution_count": 5,
   "id": "6f19f569",
   "metadata": {},
   "outputs": [],
   "source": [
    "ee.Initialize()"
   ]
  },
  {
   "cell_type": "code",
   "execution_count": 6,
   "id": "bf14ecca",
   "metadata": {},
   "outputs": [],
   "source": [
    "lat = 15.3 \n",
    "lon = -61.383333\n",
    "location = ee.Geometry.Point(lon, lat)"
   ]
  },
  {
   "cell_type": "code",
   "execution_count": 7,
   "id": "76aabdca",
   "metadata": {},
   "outputs": [],
   "source": [
    "elevation = ee.Image('USGS/SRTMGL1_003').clip(location)"
   ]
  },
  {
   "cell_type": "code",
   "execution_count": 8,
   "id": "b6e30f96",
   "metadata": {},
   "outputs": [
    {
     "data": {
      "text/html": [
       "<div style=\"width:100%;\"><div style=\"position:relative;width:100%;height:0;padding-bottom:60%;\"><span style=\"color:#565656\">Make this Notebook Trusted to load map: File -> Trust Notebook</span><iframe srcdoc=\"&lt;!DOCTYPE html&gt;\n",
       "&lt;html&gt;\n",
       "&lt;head&gt;\n",
       "    \n",
       "    &lt;meta http-equiv=&quot;content-type&quot; content=&quot;text/html; charset=UTF-8&quot; /&gt;\n",
       "    \n",
       "        &lt;script&gt;\n",
       "            L_NO_TOUCH = false;\n",
       "            L_DISABLE_3D = false;\n",
       "        &lt;/script&gt;\n",
       "    \n",
       "    &lt;style&gt;html, body {width: 100%;height: 100%;margin: 0;padding: 0;}&lt;/style&gt;\n",
       "    &lt;style&gt;#map {position:absolute;top:0;bottom:0;right:0;left:0;}&lt;/style&gt;\n",
       "    &lt;script src=&quot;https://cdn.jsdelivr.net/npm/leaflet@1.9.3/dist/leaflet.js&quot;&gt;&lt;/script&gt;\n",
       "    &lt;script src=&quot;https://code.jquery.com/jquery-1.12.4.min.js&quot;&gt;&lt;/script&gt;\n",
       "    &lt;script src=&quot;https://cdn.jsdelivr.net/npm/bootstrap@5.2.2/dist/js/bootstrap.bundle.min.js&quot;&gt;&lt;/script&gt;\n",
       "    &lt;script src=&quot;https://cdnjs.cloudflare.com/ajax/libs/Leaflet.awesome-markers/2.0.2/leaflet.awesome-markers.js&quot;&gt;&lt;/script&gt;\n",
       "    &lt;link rel=&quot;stylesheet&quot; href=&quot;https://cdn.jsdelivr.net/npm/leaflet@1.9.3/dist/leaflet.css&quot;/&gt;\n",
       "    &lt;link rel=&quot;stylesheet&quot; href=&quot;https://cdn.jsdelivr.net/npm/bootstrap@5.2.2/dist/css/bootstrap.min.css&quot;/&gt;\n",
       "    &lt;link rel=&quot;stylesheet&quot; href=&quot;https://netdna.bootstrapcdn.com/bootstrap/3.0.0/css/bootstrap.min.css&quot;/&gt;\n",
       "    &lt;link rel=&quot;stylesheet&quot; href=&quot;https://cdn.jsdelivr.net/npm/@fortawesome/fontawesome-free@6.2.0/css/all.min.css&quot;/&gt;\n",
       "    &lt;link rel=&quot;stylesheet&quot; href=&quot;https://cdnjs.cloudflare.com/ajax/libs/Leaflet.awesome-markers/2.0.2/leaflet.awesome-markers.css&quot;/&gt;\n",
       "    &lt;link rel=&quot;stylesheet&quot; href=&quot;https://cdn.jsdelivr.net/gh/python-visualization/folium/folium/templates/leaflet.awesome.rotate.min.css&quot;/&gt;\n",
       "    \n",
       "            &lt;meta name=&quot;viewport&quot; content=&quot;width=device-width,\n",
       "                initial-scale=1.0, maximum-scale=1.0, user-scalable=no&quot; /&gt;\n",
       "            &lt;style&gt;\n",
       "                #map_830120750c55822415647f3bf2da336b {\n",
       "                    position: relative;\n",
       "                    width: 100.0%;\n",
       "                    height: 100.0%;\n",
       "                    left: 0.0%;\n",
       "                    top: 0.0%;\n",
       "                }\n",
       "                .leaflet-container { font-size: 1rem; }\n",
       "            &lt;/style&gt;\n",
       "        \n",
       "&lt;/head&gt;\n",
       "&lt;body&gt;\n",
       "    \n",
       "    \n",
       "            &lt;div class=&quot;folium-map&quot; id=&quot;map_830120750c55822415647f3bf2da336b&quot; &gt;&lt;/div&gt;\n",
       "        \n",
       "&lt;/body&gt;\n",
       "&lt;script&gt;\n",
       "    \n",
       "    \n",
       "            var map_830120750c55822415647f3bf2da336b = L.map(\n",
       "                &quot;map_830120750c55822415647f3bf2da336b&quot;,\n",
       "                {\n",
       "                    center: [15.3, -61.383333],\n",
       "                    crs: L.CRS.EPSG3857,\n",
       "                    zoom: 15,\n",
       "                    zoomControl: true,\n",
       "                    preferCanvas: false,\n",
       "                }\n",
       "            );\n",
       "\n",
       "            \n",
       "\n",
       "        \n",
       "    \n",
       "            var tile_layer_a41fcf5083ab6055aa835db8b0b0de70 = L.tileLayer(\n",
       "                &quot;https://{s}.tile.openstreetmap.org/{z}/{x}/{y}.png&quot;,\n",
       "                {&quot;attribution&quot;: &quot;Data by \\u0026copy; \\u003ca target=\\&quot;_blank\\&quot; href=\\&quot;http://openstreetmap.org\\&quot;\\u003eOpenStreetMap\\u003c/a\\u003e, under \\u003ca target=\\&quot;_blank\\&quot; href=\\&quot;http://www.openstreetmap.org/copyright\\&quot;\\u003eODbL\\u003c/a\\u003e.&quot;, &quot;detectRetina&quot;: false, &quot;maxNativeZoom&quot;: 18, &quot;maxZoom&quot;: 18, &quot;minZoom&quot;: 0, &quot;noWrap&quot;: false, &quot;opacity&quot;: 1, &quot;subdomains&quot;: &quot;abc&quot;, &quot;tms&quot;: false}\n",
       "            ).addTo(map_830120750c55822415647f3bf2da336b);\n",
       "        \n",
       "    \n",
       "            var marker_de61118e69cf0c56447cfc172b8048ee = L.marker(\n",
       "                [15.3, -61.383333],\n",
       "                {}\n",
       "            ).addTo(map_830120750c55822415647f3bf2da336b);\n",
       "        \n",
       "&lt;/script&gt;\n",
       "&lt;/html&gt;\" style=\"position:absolute;width:100%;height:100%;left:0;top:0;border:none !important;\" allowfullscreen webkitallowfullscreen mozallowfullscreen></iframe></div></div>"
      ],
      "text/plain": [
       "<folium.folium.Map at 0x7fae86318700>"
      ]
     },
     "execution_count": 8,
     "metadata": {},
     "output_type": "execute_result"
    }
   ],
   "source": [
    "m = folium.Map(location=[lat, lon], zoom_start=15)\n",
    "folium.Marker([lat, lon]).add_to(m)\n",
    "m"
   ]
  },
  {
   "cell_type": "code",
   "execution_count": 9,
   "id": "14e5cb57",
   "metadata": {},
   "outputs": [
    {
     "name": "stdout",
     "output_type": "stream",
     "text": [
      "Average Elevation: 22 meters\n"
     ]
    }
   ],
   "source": [
    "# Calculate average elevation\n",
    "avg_elevation = elevation.reduceRegion(reducer=ee.Reducer.mean(), geometry=location, scale=10).get('elevation').getInfo()\n",
    "\n",
    "# Print the results\n",
    "print(f\"Average Elevation: {avg_elevation} meters\")\n"
   ]
  },
  {
   "cell_type": "code",
   "execution_count": null,
   "id": "44f44bc3",
   "metadata": {},
   "outputs": [],
   "source": []
  }
 ],
 "metadata": {
  "kernelspec": {
   "display_name": "Python 3 (ipykernel)",
   "language": "python",
   "name": "python3"
  },
  "language_info": {
   "codemirror_mode": {
    "name": "ipython",
    "version": 3
   },
   "file_extension": ".py",
   "mimetype": "text/x-python",
   "name": "python",
   "nbconvert_exporter": "python",
   "pygments_lexer": "ipython3",
   "version": "3.9.12"
  }
 },
 "nbformat": 4,
 "nbformat_minor": 5
}
