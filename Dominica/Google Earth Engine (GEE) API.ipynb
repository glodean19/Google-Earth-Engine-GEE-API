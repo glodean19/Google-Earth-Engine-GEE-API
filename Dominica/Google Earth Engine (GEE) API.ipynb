{
 "cells": [
  {
   "cell_type": "code",
   "execution_count": null,
   "id": "4686135d",
   "metadata": {},
   "outputs": [],
   "source": [
    "pip install earthengine-api"
   ]
  },
  {
   "cell_type": "code",
   "execution_count": null,
   "id": "24abfc9b",
   "metadata": {},
   "outputs": [],
   "source": [
    "pip install folium"
   ]
  },
  {
   "cell_type": "code",
   "execution_count": null,
   "id": "8ff3707e",
   "metadata": {},
   "outputs": [],
   "source": [
    "import ee\n",
    "import folium  # For visualizing the map"
   ]
  },
  {
   "cell_type": "code",
   "execution_count": null,
   "id": "5c7d3112",
   "metadata": {
    "scrolled": true
   },
   "outputs": [],
   "source": [
    "ee.Authenticate()"
   ]
  },
  {
   "cell_type": "code",
   "execution_count": null,
   "id": "6f19f569",
   "metadata": {},
   "outputs": [],
   "source": [
    "ee.Initialize()"
   ]
  },
  {
   "cell_type": "code",
   "execution_count": null,
   "id": "bf14ecca",
   "metadata": {},
   "outputs": [],
   "source": [
    "lat = 15.3 \n",
    "lon = -61.383333\n",
    "location = ee.Geometry.Point(lon, lat)"
   ]
  },
  {
   "cell_type": "code",
   "execution_count": null,
   "id": "76aabdca",
   "metadata": {},
   "outputs": [],
   "source": [
    "elevation = ee.Image('USGS/SRTMGL1_003').clip(location)"
   ]
  },
  {
   "cell_type": "code",
   "execution_count": null,
   "id": "b6e30f96",
   "metadata": {},
   "outputs": [],
   "source": [
    "m = folium.Map(location=[lat, lon], zoom_start=15)\n",
    "folium.Marker([lat, lon]).add_to(m)\n",
    "m"
   ]
  },
  {
   "cell_type": "code",
   "execution_count": null,
   "id": "14e5cb57",
   "metadata": {},
   "outputs": [],
   "source": [
    "# Calculate average elevation\n",
    "avg_elevation = elevation.reduceRegion(reducer=ee.Reducer.mean(), geometry=location, scale=30).get('elevation').getInfo()\n",
    "\n",
    "# Print the results\n",
    "print(f\"Average Elevation: {avg_elevation} meters\")\n"
   ]
  },
  {
   "cell_type": "code",
   "execution_count": null,
   "id": "44f44bc3",
   "metadata": {},
   "outputs": [],
   "source": []
  }
 ],
 "metadata": {
  "kernelspec": {
   "display_name": "Python 3 (ipykernel)",
   "language": "python",
   "name": "python3"
  },
  "language_info": {
   "codemirror_mode": {
    "name": "ipython",
    "version": 3
   },
   "file_extension": ".py",
   "mimetype": "text/x-python",
   "name": "python",
   "nbconvert_exporter": "python",
   "pygments_lexer": "ipython3",
   "version": "3.9.12"
  }
 },
 "nbformat": 4,
 "nbformat_minor": 5
}
